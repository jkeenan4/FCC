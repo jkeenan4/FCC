{
  "nbformat": 4,
  "nbformat_minor": 0,
  "metadata": {
    "colab": {
      "name": "FCC.ipynb",
      "version": "0.3.2",
      "provenance": []
    },
    "kernelspec": {
      "name": "python3",
      "display_name": "Python 3"
    }
  },
  "cells": [
    {
      "cell_type": "code",
      "metadata": {
        "id": "7Cwnrvwxon4L",
        "colab_type": "code",
        "colab": {}
      },
      "source": [
        "#Start by making sure we have all the software we need\n",
        "\n",
        "#Install Cartopy\n",
        "!wget https://anaconda.org/conda-forge/cartopy/0.16.0/download/linux-64/cartopy-0.16.0-py36h81b52dc_2.tar.bz2\n",
        "!tar xvjf cartopy-0.16.0-py36h81b52dc_2.tar.bz2\n",
        "!cp -r lib/python3.6/site-packages/* /usr/local/lib/python3.6/dist-packages/\n",
        "!pip install shapely pyshp\n",
        "!apt install libproj-dev libgeos-dev\n",
        "\n",
        "#Import all necessary modules\n",
        "import urllib.request, json \n",
        "import cartopy.crs as ccrs\n",
        "import matplotlib.pyplot as plt"
      ],
      "execution_count": 0,
      "outputs": []
    },
    {
      "cell_type": "code",
      "metadata": {
        "id": "8GHdHof1Yrja",
        "colab_type": "code",
        "colab": {}
      },
      "source": [
        "#First we need to collect the data\n",
        "\n",
        "def get_data():\n",
        "  #Collect coordinates and create the appropriate url\n",
        "  part1 = \"https://api.openweathermap.org/data/2.5/weather?lat=\"\n",
        "  part2 = \"&lon=\"\n",
        "  part3 = \"&appid=f2c98aee42e2ba03c8d9fb0903af27e4&units=imperial\"\n",
        "  latstr = str(lat)\n",
        "  lonstr = str(lon)\n",
        "  string = part1 + latstr + part2 + lonstr + part3\n",
        "  \n",
        "  #Make an API call with the url\n",
        "  with urllib.request.urlopen(string) as url:\n",
        "    data = json.loads(url.read().decode())\n",
        "  \n",
        "  #Collect weather data for the desired location from the call and put it into a dictionary\n",
        "  weather = {'location': data['name'],\n",
        "             'condition': data['weather'][0]['main'],\n",
        "             'temp': data['main']['temp'],\n",
        "             'humidity': data['main']['humidity'],\n",
        "             'wind speed': data['wind']['speed']\n",
        "            }\n",
        "  \n",
        "  #Print the weather data in an ordered fashion\n",
        "  print('Location:',weather['location'])\n",
        "  print('Condition:',weather['condition'])\n",
        "  print('Temperature:',(\"%.1f\" % weather['temp']),'degrees Fahrenheit')\n",
        "  print('Humidity:',weather['humidity'],'%')\n",
        "  print('Wind Speed:',weather['wind speed'],'mph')"
      ],
      "execution_count": 0,
      "outputs": []
    },
    {
      "cell_type": "code",
      "metadata": {
        "id": "avTgjHt4hkMu",
        "colab_type": "code",
        "colab": {}
      },
      "source": [
        "#Next, we will plot the desired location on a map\n",
        "\n",
        "def plot_map():\n",
        "  #Create a map wth cartopy\n",
        "  ax = plt.axes(projection=ccrs.PlateCarree())\n",
        "  \n",
        "  ax.set_extent([float(lon) - 45, float(lon) + 45, float(lat) - 30, float(lat) + 30], crs=ccrs.PlateCarree())\n",
        "  \n",
        "  ax.stock_img()\n",
        "  \n",
        "  #Plot the coordinates\n",
        "  plt.plot(float(lon),float(lat),'rx',\n",
        "           transform=ccrs.PlateCarree())\n",
        "  \n",
        "  #Show the plot\n",
        "  plt.show"
      ],
      "execution_count": 0,
      "outputs": []
    },
    {
      "cell_type": "code",
      "metadata": {
        "id": "waQbtZMshlu6",
        "colab_type": "code",
        "outputId": "bd20d036-40e2-4bcb-df74-505cea27fb5d",
        "colab": {
          "base_uri": "https://localhost:8080/",
          "height": 367
        }
      },
      "source": [
        "#Finally, we will ask the user what location they want to know the weather of\n",
        "\n",
        "#Have the user enter a latitude and longitude\n",
        "lat = input(\"Enter a latitude: \")\n",
        "lon = input(\"Enter a longitude: \")\n",
        "\n",
        "#Call the functions\n",
        "get_data()\n",
        "plot_map()"
      ],
      "execution_count": 6,
      "outputs": [
        {
          "output_type": "stream",
          "text": [
            "Enter a latitude: 41.41\n",
            "Enter a longitude: -86.15\n",
            "Location: Bremen\n",
            "Condition: Clear\n",
            "Temperature: 67.5 degrees Fahrenheit\n",
            "Humidity: 46 %\n",
            "Wind Speed: 14.99 mph\n"
          ],
          "name": "stdout"
        },
        
          "metadata": {
            "tags": []
          }
        }
      ]
    }
  ]
}
